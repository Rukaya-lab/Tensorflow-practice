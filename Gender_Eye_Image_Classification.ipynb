{
  "nbformat": 4,
  "nbformat_minor": 0,
  "metadata": {
    "colab": {
      "name": "Gender Eye Image Classification.ipynb",
      "provenance": [],
      "collapsed_sections": [],
      "authorship_tag": "ABX9TyP9H8zXhHO69BEUHqLIvwrE",
      "include_colab_link": true
    },
    "kernelspec": {
      "name": "python3",
      "display_name": "Python 3"
    },
    "language_info": {
      "name": "python"
    }
  },
  "cells": [
    {
      "cell_type": "markdown",
      "metadata": {
        "id": "view-in-github",
        "colab_type": "text"
      },
      "source": [
        "<a href=\"https://colab.research.google.com/github/Rukaya-lab/Tensorflow-practice/blob/main/Gender_Eye_Image_Classification.ipynb\" target=\"_parent\"><img src=\"https://colab.research.google.com/assets/colab-badge.svg\" alt=\"Open In Colab\"/></a>"
      ]
    },
    {
      "cell_type": "markdown",
      "metadata": {
        "id": "om26-7VhpmTm"
      },
      "source": [
        "## Import Important and Helper Libraries"
      ]
    },
    {
      "cell_type": "code",
      "metadata": {
        "id": "eMjHAaFfoRGX"
      },
      "source": [
        "# to prevent unnecessary warnings\n",
        "import warnings\n",
        "warnings.simplefilter(action='ignore', category=FutureWarning)\n",
        "\n",
        "# TensorFlow and tf.keras\n",
        "import tensorflow as tf\n",
        "\n",
        "from pathlib import Path\n",
        "\n",
        "#import useful module for keras library\n",
        "from tensorflow import keras\n",
        "from tensorflow.keras.models import Sequential\n",
        "from tensorflow.keras.layers import Dense, Dropout, Flatten, Conv2D, MaxPooling2D, BatchNormalization\n",
        "from tensorflow.keras.optimizers import Adam\n",
        "from tensorflow.keras.losses import SparseCategoricalCrossentropy\n",
        "from keras.preprocessing.image import ImageDataGenerator\n",
        "from tensorflow.keras.regularizers import l2\n",
        "\n",
        "# get modules from sklearn library\n",
        "from sklearn.preprocessing import StandardScaler \n",
        "from sklearn.model_selection import train_test_split \n",
        "from sklearn.metrics import classification_report \n",
        "\n",
        "#import libraries\n",
        "import matplotlib.pyplot as plt\n",
        "import seaborn as sns\n",
        "import random\n",
        "import pandas as pd"
      ],
      "execution_count": 26,
      "outputs": []
    },
    {
      "cell_type": "markdown",
      "metadata": {
        "id": "_P-w7T37E-gD"
      },
      "source": [
        "# New Section"
      ]
    },
    {
      "cell_type": "markdown",
      "metadata": {
        "id": "kgBw6fVxqlOo"
      },
      "source": [
        "Load the training set data"
      ]
    },
    {
      "cell_type": "code",
      "metadata": {
        "colab": {
          "base_uri": "https://localhost:8080/"
        },
        "id": "3N8CiTtror9N",
        "outputId": "1d135ee5-01c5-4c07-f76e-5f39f5c78e87"
      },
      "source": [
        "from google.colab import drive\n",
        "drive.mount('/content/drive')\n",
        "\n"
      ],
      "execution_count": 27,
      "outputs": [
        {
          "output_type": "stream",
          "name": "stdout",
          "text": [
            "Drive already mounted at /content/drive; to attempt to forcibly remount, call drive.mount(\"/content/drive\", force_remount=True).\n"
          ]
        }
      ]
    },
    {
      "cell_type": "code",
      "metadata": {
        "colab": {
          "base_uri": "https://localhost:8080/",
          "height": 204
        },
        "id": "qsg0VbjcZTHz",
        "outputId": "3e327b0b-949b-44ae-9839-5fa02c4a8433"
      },
      "source": [
        "path = '/content/drive/MyDrive/eye_gender_data/'\n",
        "\n",
        "#read the train_data with pandas read csv\n",
        "eye_train = pd.read_csv(path+\"Training_set.csv\")\n",
        "eye_test = pd.read_csv(path+\"Testing_set.csv\")\n",
        "\n",
        "\n",
        "#view the first 4 rows of the dataset in a table\n",
        "eye_train.head()"
      ],
      "execution_count": 28,
      "outputs": [
        {
          "output_type": "execute_result",
          "data": {
            "text/html": [
              "<div>\n",
              "<style scoped>\n",
              "    .dataframe tbody tr th:only-of-type {\n",
              "        vertical-align: middle;\n",
              "    }\n",
              "\n",
              "    .dataframe tbody tr th {\n",
              "        vertical-align: top;\n",
              "    }\n",
              "\n",
              "    .dataframe thead th {\n",
              "        text-align: right;\n",
              "    }\n",
              "</style>\n",
              "<table border=\"1\" class=\"dataframe\">\n",
              "  <thead>\n",
              "    <tr style=\"text-align: right;\">\n",
              "      <th></th>\n",
              "      <th>filename</th>\n",
              "      <th>label</th>\n",
              "    </tr>\n",
              "  </thead>\n",
              "  <tbody>\n",
              "    <tr>\n",
              "      <th>0</th>\n",
              "      <td>Image_1.jpg</td>\n",
              "      <td>male</td>\n",
              "    </tr>\n",
              "    <tr>\n",
              "      <th>1</th>\n",
              "      <td>Image_2.jpg</td>\n",
              "      <td>female</td>\n",
              "    </tr>\n",
              "    <tr>\n",
              "      <th>2</th>\n",
              "      <td>Image_3.jpg</td>\n",
              "      <td>female</td>\n",
              "    </tr>\n",
              "    <tr>\n",
              "      <th>3</th>\n",
              "      <td>Image_4.jpg</td>\n",
              "      <td>female</td>\n",
              "    </tr>\n",
              "    <tr>\n",
              "      <th>4</th>\n",
              "      <td>Image_5.jpg</td>\n",
              "      <td>male</td>\n",
              "    </tr>\n",
              "  </tbody>\n",
              "</table>\n",
              "</div>"
            ],
            "text/plain": [
              "      filename   label\n",
              "0  Image_1.jpg    male\n",
              "1  Image_2.jpg  female\n",
              "2  Image_3.jpg  female\n",
              "3  Image_4.jpg  female\n",
              "4  Image_5.jpg    male"
            ]
          },
          "metadata": {},
          "execution_count": 28
        }
      ]
    },
    {
      "cell_type": "code",
      "metadata": {
        "id": "kBjrPv1HtrNG",
        "colab": {
          "base_uri": "https://localhost:8080/"
        },
        "outputId": "759b5e12-0802-40cc-a15c-eb180ddf15c7"
      },
      "source": [
        "#get shape of dataset\n",
        "print(eye_train.shape)\n",
        "\n",
        "print(eye_train.info())"
      ],
      "execution_count": 29,
      "outputs": [
        {
          "output_type": "stream",
          "name": "stdout",
          "text": [
            "(9220, 2)\n",
            "<class 'pandas.core.frame.DataFrame'>\n",
            "RangeIndex: 9220 entries, 0 to 9219\n",
            "Data columns (total 2 columns):\n",
            " #   Column    Non-Null Count  Dtype \n",
            "---  ------    --------------  ----- \n",
            " 0   filename  9220 non-null   object\n",
            " 1   label     9220 non-null   object\n",
            "dtypes: object(2)\n",
            "memory usage: 144.2+ KB\n",
            "None\n"
          ]
        }
      ]
    },
    {
      "cell_type": "code",
      "metadata": {
        "id": "wBrp9i545HT3",
        "colab": {
          "base_uri": "https://localhost:8080/"
        },
        "outputId": "d7d7e9d2-d1e5-4529-90fc-646727849664"
      },
      "source": [
        "eye_train['label'].unique()"
      ],
      "execution_count": 30,
      "outputs": [
        {
          "output_type": "execute_result",
          "data": {
            "text/plain": [
              "array(['male', 'female'], dtype=object)"
            ]
          },
          "metadata": {},
          "execution_count": 30
        }
      ]
    },
    {
      "cell_type": "code",
      "metadata": {
        "id": "RPzXoJrw5W6X",
        "colab": {
          "base_uri": "https://localhost:8080/"
        },
        "outputId": "7772af01-3718-4fda-e95b-b0ca38422058"
      },
      "source": [
        "#get the counts of the labels\n",
        "eye_train['label'].value_counts()"
      ],
      "execution_count": 31,
      "outputs": [
        {
          "output_type": "execute_result",
          "data": {
            "text/plain": [
              "male      5058\n",
              "female    4162\n",
              "Name: label, dtype: int64"
            ]
          },
          "metadata": {},
          "execution_count": 31
        }
      ]
    },
    {
      "cell_type": "code",
      "metadata": {
        "id": "IwqleWgD8Oq0",
        "colab": {
          "base_uri": "https://localhost:8080/"
        },
        "outputId": "6d9d6d02-dcdc-4cf2-ebac-a0437011c48e"
      },
      "source": [
        "# There is a different dataset for testing,\n",
        "#we split the train dataset into train and validation set\n",
        "\n",
        "train_set, val_set = train_test_split(eye_train, test_size = 0.3, random_state = 42)\n",
        "\n",
        "print(train_set.shape)\n",
        "print(val_set.shape)"
      ],
      "execution_count": 32,
      "outputs": [
        {
          "output_type": "stream",
          "name": "stdout",
          "text": [
            "(6454, 2)\n",
            "(2766, 2)\n"
          ]
        }
      ]
    },
    {
      "cell_type": "markdown",
      "metadata": {
        "id": "EGGzdmJe9v8v"
      },
      "source": [
        "### Image preprocessing and generation\n"
      ]
    },
    {
      "cell_type": "code",
      "metadata": {
        "id": "B9_486UD8TT-",
        "colab": {
          "base_uri": "https://localhost:8080/"
        },
        "outputId": "bcdca821-0d5b-42a3-b539-9ef1a30454da"
      },
      "source": [
        "img_gen = ImageDataGenerator(preprocessing_function = tf.keras.applications.mobilenet_v2.preprocess_input, \n",
        "                             rescale=1/255, zoom_range = 0.2,\n",
        "                                rotation_range = 20,\n",
        "                                width_shift_range = 0.2,\n",
        "                                height_shift_range = 0.2,\n",
        "                                horizontal_flip = True)\n",
        "\n",
        "# img_gen cannot take in an array, so ensure the data that is been passed is a dataframe\n",
        "train = img_gen.flow_from_dataframe(dataframe = train_set,\n",
        "    directory = '/content/drive/MyDrive/eye_gender_data/train' ,  # the path contaning the images                                 \n",
        "    x_col = 'filename', #name of the column containing the image in the train set\n",
        "    y_col ='label', #name of column containing the target in the train set\n",
        "    target_size = (100, 100),\n",
        "    color_mode = 'rgb',\n",
        "    class_mode = 'categorical',#the class mode here and that for the model_loss(when using sequential model)\n",
        "                                    #should be the same\n",
        "    batch_size = 32,\n",
        "    shuffle = False #not to shuffle the given data\n",
        ")\n",
        "\n",
        "val = img_gen.flow_from_dataframe(dataframe = val_set,\n",
        "    directory = '/content/drive/MyDrive/eye_gender_data/train' ,   # the path conataining the images                          \n",
        "    x_col = 'filename', #name of the column containing the image in the test set\n",
        "    y_col ='label', #name of column containing the target in the test set\n",
        "    target_size =(100, 100),\n",
        "    color_mode ='rgb',\n",
        "    class_mode ='categorical',\n",
        "    batch_size = 32,\n",
        "    shuffle = False # not to shuffle the given data\n",
        ")"
      ],
      "execution_count": 33,
      "outputs": [
        {
          "output_type": "stream",
          "name": "stdout",
          "text": [
            "Found 6454 validated image filenames belonging to 2 classes.\n",
            "Found 2766 validated image filenames belonging to 2 classes.\n"
          ]
        }
      ]
    },
    {
      "cell_type": "markdown",
      "metadata": {
        "id": "WxBtwNMNLTp4"
      },
      "source": [
        "## Model Building"
      ]
    },
    {
      "cell_type": "code",
      "metadata": {
        "id": "m1VuscII9f_m",
        "colab": {
          "base_uri": "https://localhost:8080/"
        },
        "outputId": "10774c9d-87ec-4990-ba6b-2f98de5e7aeb"
      },
      "source": [
        "# define sequential model\n",
        "model = tf.keras.models.Sequential()\n",
        "# define conv-pool layers - set 1\n",
        "model.add(tf.keras.layers.Conv2D(filters = 32, kernel_size=(3, 3), strides=(1, 1), \n",
        "                                activation='relu', padding='valid', input_shape = (100, 100, 3)))\n",
        "model.add(BatchNormalization(axis=3))\n",
        "model.add(tf.keras.layers.MaxPooling2D(pool_size=(2, 2)))\n",
        "\n",
        "\n",
        "# define conv-pool layers - set 2\n",
        "model.add(tf.keras.layers.Conv2D(filters = 16, kernel_size=(3, 3), strides=(1, 1), \n",
        "                                activation='relu', padding='valid'))\n",
        "\n",
        "model.add(tf.keras.layers.MaxPooling2D(pool_size=(2, 2)))\n",
        "\n",
        "# define conv-pool layers - set 3\n",
        "model.add(tf.keras.layers.Conv2D(filters = 16, kernel_size=(3, 3), strides=(1, 1), \n",
        "                                activation='relu', padding='valid'))\n",
        "model.add(tf.keras.layers.MaxPooling2D(pool_size=(2, 2)))\n",
        "\n",
        "\n",
        "# add flatten layer\n",
        "model.add(tf.keras.layers.Flatten())\n",
        "\n",
        "# add dense layers with some dropout\n",
        "model.add(tf.keras.layers.Dense(512, activation='relu'))\n",
        "model.add(tf.keras.layers.Dropout(rate = 0.2))\n",
        "model.add(tf.keras.layers.Dense(256, activation='relu'))\n",
        "model.add(tf.keras.layers.Dense(256, activation='relu'))\n",
        "model.add(tf.keras.layers.Dense(128, activation='relu'))\n",
        "\n",
        "# add output layer\n",
        "model.add(tf.keras.layers.Dense(2, kernel_regularizer = l2(0.01), #adding regularizer for svm, Because when we use Support Vector Machine for binary classification we use something called LinearSVM\n",
        "                                activation='linear')) #use softmax as activation in the output layer\n",
        "#for multiclass. Sigmoid activation is used for binary and 'relu' shouldnt be use for output layer\n",
        "\n",
        "model.summary()"
      ],
      "execution_count": 57,
      "outputs": [
        {
          "output_type": "stream",
          "name": "stdout",
          "text": [
            "Model: \"sequential_8\"\n",
            "_________________________________________________________________\n",
            "Layer (type)                 Output Shape              Param #   \n",
            "=================================================================\n",
            "conv2d_24 (Conv2D)           (None, 98, 98, 32)        896       \n",
            "_________________________________________________________________\n",
            "batch_normalization_13 (Batc (None, 98, 98, 32)        128       \n",
            "_________________________________________________________________\n",
            "max_pooling2d_24 (MaxPooling (None, 49, 49, 32)        0         \n",
            "_________________________________________________________________\n",
            "conv2d_25 (Conv2D)           (None, 47, 47, 16)        4624      \n",
            "_________________________________________________________________\n",
            "max_pooling2d_25 (MaxPooling (None, 23, 23, 16)        0         \n",
            "_________________________________________________________________\n",
            "conv2d_26 (Conv2D)           (None, 21, 21, 16)        2320      \n",
            "_________________________________________________________________\n",
            "max_pooling2d_26 (MaxPooling (None, 10, 10, 16)        0         \n",
            "_________________________________________________________________\n",
            "flatten_8 (Flatten)          (None, 1600)              0         \n",
            "_________________________________________________________________\n",
            "dense_29 (Dense)             (None, 512)               819712    \n",
            "_________________________________________________________________\n",
            "dropout_8 (Dropout)          (None, 512)               0         \n",
            "_________________________________________________________________\n",
            "dense_30 (Dense)             (None, 256)               131328    \n",
            "_________________________________________________________________\n",
            "dense_31 (Dense)             (None, 256)               65792     \n",
            "_________________________________________________________________\n",
            "dense_32 (Dense)             (None, 128)               32896     \n",
            "_________________________________________________________________\n",
            "dense_33 (Dense)             (None, 2)                 258       \n",
            "=================================================================\n",
            "Total params: 1,057,954\n",
            "Trainable params: 1,057,890\n",
            "Non-trainable params: 64\n",
            "_________________________________________________________________\n"
          ]
        }
      ]
    },
    {
      "cell_type": "code",
      "metadata": {
        "id": "nnpD02N594PP"
      },
      "source": [
        "#import modules that will wnable early stopping for optimization during model training\n",
        "from tensorflow.keras.callbacks import TensorBoard, EarlyStopping\n",
        "from datetime import datetime\n",
        "\n",
        "#tensorboard\n",
        "logdir = \"logs/\" + datetime.now().strftime(\"%Y%m%d-%H%M%S\")\n",
        "tensorboard_callback = TensorBoard(log_dir=logdir)\n",
        "\n",
        "#define the early stopping\n",
        "es = EarlyStopping(monitor='val_loss', mode='min', verbose=1, patience=5)"
      ],
      "execution_count": 58,
      "outputs": []
    },
    {
      "cell_type": "code",
      "metadata": {
        "id": "iu5MwOSt-Jvm"
      },
      "source": [
        "# compile model\n",
        "model.compile(optimizer='adam', # optimize the model with adam optimizer\n",
        "              loss=\"hinge\", #for svm classification\n",
        "              metrics=['accuracy']) #to get accuracy of the model in each run"
      ],
      "execution_count": 59,
      "outputs": []
    },
    {
      "cell_type": "code",
      "metadata": {
        "id": "mk_A1dfg-LCn",
        "colab": {
          "base_uri": "https://localhost:8080/"
        },
        "outputId": "e2589743-3239-4a95-f8c7-885172caadff"
      },
      "source": [
        "#fit the model on train data and add val data fro validation\n",
        "history = model.fit(train,\n",
        "    batch_size = 32,\n",
        "    verbose = 1, # Suppress chatty output; use Tensorboard instead\n",
        "    epochs = 50,\n",
        "    validation_data = val, #add the validation set to evaluate the performance in each run\n",
        "    callbacks = [tensorboard_callback, es],\n",
        ")"
      ],
      "execution_count": 60,
      "outputs": [
        {
          "output_type": "stream",
          "name": "stdout",
          "text": [
            "Epoch 1/50\n",
            "202/202 [==============================] - 138s 545ms/step - loss: 0.8943 - accuracy: 0.5786 - val_loss: 0.9399 - val_accuracy: 0.5510\n",
            "Epoch 2/50\n",
            "202/202 [==============================] - 109s 541ms/step - loss: 0.7761 - accuracy: 0.6453 - val_loss: 1.0378 - val_accuracy: 0.5510\n",
            "Epoch 3/50\n",
            "202/202 [==============================] - 114s 564ms/step - loss: 0.7205 - accuracy: 0.6700 - val_loss: 0.7982 - val_accuracy: 0.6189\n",
            "Epoch 4/50\n",
            "202/202 [==============================] - 109s 540ms/step - loss: 0.6423 - accuracy: 0.6977 - val_loss: 0.9484 - val_accuracy: 0.5336\n",
            "Epoch 5/50\n",
            "202/202 [==============================] - 113s 560ms/step - loss: 0.6070 - accuracy: 0.7127 - val_loss: 0.9306 - val_accuracy: 0.5474\n",
            "Epoch 6/50\n",
            "202/202 [==============================] - 113s 560ms/step - loss: 0.5726 - accuracy: 0.7253 - val_loss: 0.7723 - val_accuracy: 0.6244\n",
            "Epoch 7/50\n",
            "202/202 [==============================] - 109s 539ms/step - loss: 0.5501 - accuracy: 0.7388 - val_loss: 0.8860 - val_accuracy: 0.5611\n",
            "Epoch 8/50\n",
            "202/202 [==============================] - 109s 541ms/step - loss: 0.5143 - accuracy: 0.7558 - val_loss: 0.7124 - val_accuracy: 0.6580\n",
            "Epoch 9/50\n",
            "202/202 [==============================] - 114s 565ms/step - loss: 0.4882 - accuracy: 0.7637 - val_loss: 0.7036 - val_accuracy: 0.6529\n",
            "Epoch 10/50\n",
            "202/202 [==============================] - 113s 561ms/step - loss: 0.4984 - accuracy: 0.7605 - val_loss: 0.6084 - val_accuracy: 0.7043\n",
            "Epoch 11/50\n",
            "202/202 [==============================] - 109s 539ms/step - loss: 0.4875 - accuracy: 0.7673 - val_loss: 0.8491 - val_accuracy: 0.5850\n",
            "Epoch 12/50\n",
            "202/202 [==============================] - 109s 540ms/step - loss: 0.4726 - accuracy: 0.7758 - val_loss: 0.6794 - val_accuracy: 0.6717\n",
            "Epoch 13/50\n",
            "202/202 [==============================] - 109s 537ms/step - loss: 0.4751 - accuracy: 0.7721 - val_loss: 0.5613 - val_accuracy: 0.7223\n",
            "Epoch 14/50\n",
            "202/202 [==============================] - 113s 557ms/step - loss: 0.4563 - accuracy: 0.7795 - val_loss: 1.0050 - val_accuracy: 0.5043\n",
            "Epoch 15/50\n",
            "202/202 [==============================] - 113s 558ms/step - loss: 0.4570 - accuracy: 0.7811 - val_loss: 0.8552 - val_accuracy: 0.5763\n",
            "Epoch 16/50\n",
            "202/202 [==============================] - 109s 538ms/step - loss: 0.4376 - accuracy: 0.7894 - val_loss: 0.9443 - val_accuracy: 0.5463\n",
            "Epoch 17/50\n",
            "202/202 [==============================] - 108s 536ms/step - loss: 0.4266 - accuracy: 0.7932 - val_loss: 1.2243 - val_accuracy: 0.5510\n",
            "Epoch 18/50\n",
            "202/202 [==============================] - 113s 560ms/step - loss: 0.4310 - accuracy: 0.7908 - val_loss: 0.8332 - val_accuracy: 0.5824\n",
            "Epoch 00018: early stopping\n"
          ]
        }
      ]
    },
    {
      "cell_type": "code",
      "metadata": {
        "colab": {
          "base_uri": "https://localhost:8080/",
          "height": 516
        },
        "id": "SXD99y07KbLW",
        "outputId": "601b44e3-334e-4665-cf35-86094675248b"
      },
      "source": [
        "acc = history.history['accuracy'] # get history report of the model\n",
        "\n",
        "val_acc = history.history['val_accuracy'] # get history of the validation set\n",
        "\n",
        "loss = history.history['loss'] #get the history of the lossses recorded on the train set\n",
        "val_loss = history.history['val_loss'] #get the history of the lossses recorded on the validation set\n",
        "\n",
        "plt.figure(figsize=(8, 8)) # set figure size for the plot generated\n",
        "\n",
        "\n",
        "plt.plot(acc, label='Training Accuracy') #plot accuracy curve for each train run\n",
        "plt.plot(val_acc, label='Validation Accuracy') #plot accuracy curve for each validation run\n",
        "\n",
        "plt.legend(loc='lower right')\n",
        "plt.ylabel('Accuracy') #label name for y axis\n",
        "plt.ylim([min(plt.ylim()),0.9]) #set limit for y axis\n",
        "plt.title('Training and Validation Accuracy') #set title for the plot"
      ],
      "execution_count": 61,
      "outputs": [
        {
          "output_type": "execute_result",
          "data": {
            "text/plain": [
              "Text(0.5, 1.0, 'Training and Validation Accuracy')"
            ]
          },
          "metadata": {},
          "execution_count": 61
        },
        {
          "output_type": "display_data",
          "data": {
            "image/png": "[encoded data removed]",
            "text/plain": [
              "<Figure size 576x576 with 1 Axes>"
            ]
          },
          "metadata": {
            "needs_background": "light"
          }
        }
      ]
    },
    {
      "cell_type": "code",
      "metadata": {
        "colab": {
          "base_uri": "https://localhost:8080/",
          "height": 341
        },
        "id": "d8vJq0vMKiWC",
        "outputId": "89283c24-29a4-4c06-c902-65e188718879"
      },
      "source": [
        "plt.figure(figsize=(5, 5)) # set figure size for the plot generated\n",
        "\n",
        "\n",
        "plt.plot(loss, label='Training Loss') #plot loss curve for each train run\n",
        "plt.plot(val_loss, label='Validation Loss') #plot loss curve for each validation run\n",
        "\n",
        "plt.legend(loc='lower right')\n",
        "plt.ylabel('Loss') #label name for y axis\n",
        "plt.ylim([min(plt.ylim()), 1]) #set limit for y axis"
      ],
      "execution_count": 62,
      "outputs": [
        {
          "output_type": "execute_result",
          "data": {
            "text/plain": [
              "(0.3867230489850044, 1.0)"
            ]
          },
          "metadata": {},
          "execution_count": 62
        },
        {
          "output_type": "display_data",
          "data": {
            "image/png": "[encoded data removed]",
            "text/plain": [
              "<Figure size 360x360 with 1 Axes>"
            ]
          },
          "metadata": {
            "needs_background": "light"
          }
        }
      ]
    },
    {
      "cell_type": "code",
      "metadata": {
        "id": "CZpj7Wd--ctW",
        "colab": {
          "base_uri": "https://localhost:8080/"
        },
        "outputId": "e012ca66-6305-4f42-cba6-cb21286c21a4"
      },
      "source": [
        "\n",
        "imgen = ImageDataGenerator(rescale=1/255 )\n",
        "\n",
        "# img_gen cannot take in an array, so ensure the data that is been passed is a dataframe\n",
        "test = imgen.flow_from_dataframe(dataframe = eye_test,\n",
        "    directory = '/content/drive/MyDrive/eye_gender_data/test' ,  # the path contaning the images                                 \n",
        "    target_size = (100, 100),\n",
        "    color_mode = 'rgb',\n",
        "    class_mode= None ,#the class mode here and that for the model_loss(when using sequential model)\n",
        "                                    #should be the same\n",
        "    batch_size = 32,\n",
        "    shuffle = False #not to shuffle the given data\n",
        ")\n",
        "\n"
      ],
      "execution_count": 63,
      "outputs": [
        {
          "output_type": "stream",
          "name": "stdout",
          "text": [
            "Found 2305 validated image filenames.\n"
          ]
        }
      ]
    },
    {
      "cell_type": "code",
      "metadata": {
        "colab": {
          "base_uri": "https://localhost:8080/"
        },
        "id": "fP7AH66NLTFW",
        "outputId": "96eb42a1-3be8-4167-b037-4e6940b97e08"
      },
      "source": [
        "prediction = model.predict_generator(test, verbose=1)"
      ],
      "execution_count": 64,
      "outputs": [
        {
          "output_type": "stream",
          "name": "stderr",
          "text": [
            "/usr/local/lib/python3.7/dist-packages/keras/engine/training.py:2035: UserWarning: `Model.predict_generator` is deprecated and will be removed in a future version. Please use `Model.predict`, which supports generators.\n",
            "  warnings.warn('`Model.predict_generator` is deprecated and '\n"
          ]
        },
        {
          "output_type": "stream",
          "name": "stdout",
          "text": [
            "73/73 [==============================] - 8s 111ms/step\n"
          ]
        }
      ]
    },
    {
      "cell_type": "code",
      "metadata": {
        "colab": {
          "base_uri": "https://localhost:8080/"
        },
        "id": "C3t85d6cLaGH",
        "outputId": "06fbf2ef-17aa-443c-e098-4a1ad78695cb"
      },
      "source": [
        "len(prediction)"
      ],
      "execution_count": 65,
      "outputs": [
        {
          "output_type": "execute_result",
          "data": {
            "text/plain": [
              "2305"
            ]
          },
          "metadata": {},
          "execution_count": 65
        }
      ]
    },
    {
      "cell_type": "code",
      "metadata": {
        "id": "MBS5daBqKMG2"
      },
      "source": [
        "import numpy as np\n",
        "\n",
        "\n",
        "prediction = np.argmax(prediction, axis = 1) # pick the class with highest probability\n",
        "\n",
        "\n",
        "labels = (train.class_indices)\n",
        "labels = dict((v,k) for k,v in labels.items())\n",
        "predictions = [labels[k] for k in prediction]\n",
        "\n",
        "\n",
        "output = pd.DataFrame({'label': predictions})"
      ],
      "execution_count": 66,
      "outputs": []
    },
    {
      "cell_type": "code",
      "metadata": {
        "colab": {
          "base_uri": "https://localhost:8080/",
          "height": 17
        },
        "id": "1pIKRtV8K8_V",
        "outputId": "239c4f42-0b97-46c1-d091-2e89fccc89f4"
      },
      "source": [
        "# To download the csv file locally\n",
        "from google.colab import files\n",
        "output.to_csv('eye_class.csv', index = False)         \n",
        "files.download('eye_class.csv')"
      ],
      "execution_count": 67,
      "outputs": [
        {
          "output_type": "display_data",
          "data": {
            "application/javascript": [
              "\n",
              "    async function download(id, filename, size) {\n",
              "      if (!google.colab.kernel.accessAllowed) {\n",
              "        return;\n",
              "      }\n",
              "      const div = document.createElement('div');\n",
              "      const label = document.createElement('label');\n",
              "      label.textContent = `Downloading \"${filename}\": `;\n",
              "      div.appendChild(label);\n",
              "      const progress = document.createElement('progress');\n",
              "      progress.max = size;\n",
              "      div.appendChild(progress);\n",
              "      document.body.appendChild(div);\n",
              "\n",
              "      const buffers = [];\n",
              "      let downloaded = 0;\n",
              "\n",
              "      const channel = await google.colab.kernel.comms.open(id);\n",
              "      // Send a message to notify the kernel that we're ready.\n",
              "      channel.send({})\n",
              "\n",
              "      for await (const message of channel.messages) {\n",
              "        // Send a message to notify the kernel that we're ready.\n",
              "        channel.send({})\n",
              "        if (message.buffers) {\n",
              "          for (const buffer of message.buffers) {\n",
              "            buffers.push(buffer);\n",
              "            downloaded += buffer.byteLength;\n",
              "            progress.value = downloaded;\n",
              "          }\n",
              "        }\n",
              "      }\n",
              "      const blob = new Blob(buffers, {type: 'application/binary'});\n",
              "      const a = document.createElement('a');\n",
              "      a.href = window.URL.createObjectURL(blob);\n",
              "      a.download = filename;\n",
              "      div.appendChild(a);\n",
              "      a.click();\n",
              "      div.remove();\n",
              "    }\n",
              "  "
            ],
            "text/plain": [
              "<IPython.core.display.Javascript object>"
            ]
          },
          "metadata": {}
        },
        {
          "output_type": "display_data",
          "data": {
            "application/javascript": [
              "download(\"download_31b4ed45-a04c-419c-832e-d3869d4eea0e\", \"eye_class.csv\", 14085)"
            ],
            "text/plain": [
              "<IPython.core.display.Javascript object>"
            ]
          },
          "metadata": {}
        }
      ]
    },
    {
      "cell_type": "code",
      "metadata": {
        "id": "N2q8Mi6KOt6w"
      },
      "source": [
        ""
      ],
      "execution_count": 42,
      "outputs": []
    }
  ]
}